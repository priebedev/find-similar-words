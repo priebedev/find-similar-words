{
 "cells": [
  {
   "cell_type": "code",
   "execution_count": 6,
   "id": "ea30cb6f-1fa7-4b0d-b983-653a561e80a0",
   "metadata": {},
   "outputs": [
    {
     "name": "stderr",
     "output_type": "stream",
     "text": [
      "[nltk_data] Downloading package stopwords to\n",
      "[nltk_data]     C:\\Users\\drumw\\AppData\\Roaming\\nltk_data...\n",
      "[nltk_data]   Package stopwords is already up-to-date!\n"
     ]
    },
    {
     "name": "stdout",
     "output_type": "stream",
     "text": [
      "Loading embeddings... (this may take a minute)\n",
      "Done.\n",
      "Top words similar to 'happy':\n",
      "feel (0.8133)\n",
      "really (0.7904)\n",
      "glad (0.7833)\n",
      "good (0.7822)\n",
      "sure (0.7788)\n"
     ]
    }
   ],
   "source": [
    "from pathlib import Path\n",
    "import numpy as np\n",
    "\n",
    "# Load a list of common stopwords to filter out\n",
    "import string\n",
    "import re\n",
    "from nltk.corpus import stopwords\n",
    "import nltk\n",
    "\n",
    "nltk.download('stopwords')\n",
    "stop_words = set(stopwords.words('english'))\n",
    "\n",
    "# ✅ Step 1: Load the GloVe embeddings\n",
    "def load_glove_embeddings(file_path):\n",
    "    embeddings = {}\n",
    "    with open(file_path, 'r', encoding='utf-8') as f:\n",
    "        for line in f:\n",
    "            parts = line.strip().split()\n",
    "            word = parts[0]\n",
    "            vector = np.array(parts[1:], dtype=np.float32)\n",
    "            embeddings[word] = vector\n",
    "    return embeddings\n",
    "\n",
    "# ✅ Step 2: Cosine similarity function\n",
    "from numpy.linalg import norm\n",
    "\n",
    "def cosine_similarity(v1, v2):\n",
    "    return np.dot(v1, v2) / (norm(v1) * norm(v2))\n",
    "\n",
    "def is_valid_word(word):\n",
    "    return (\n",
    "        len(word) > 2 and\n",
    "        word.isalpha() and\n",
    "        word.lower() not in stop_words\n",
    "    )\n",
    "\n",
    "def get_similar_words(word, embeddings, top_n=5):\n",
    "    if word not in embeddings:\n",
    "        return []\n",
    "    vec = embeddings[word]\n",
    "    similarities = []\n",
    "    for other_word, other_vec in embeddings.items():\n",
    "        if other_word == word:\n",
    "            continue\n",
    "        if not is_valid_word(other_word):\n",
    "            continue\n",
    "        sim = cosine_similarity(vec, other_vec)\n",
    "        similarities.append((other_word, sim))\n",
    "    similarities.sort(key=lambda x: x[1], reverse=True)\n",
    "    return similarities[:top_n]\n",
    "\n",
    "# ✅ Step 4: Load file with pathlib\n",
    "base_path = Path(\"C:/Users/drumw/Dev Projects/thesaurus/glove.6B\")\n",
    "file_path = base_path / \"glove.6B.100d.txt\"\n",
    "\n",
    "print(\"Loading embeddings... (this may take a minute)\")\n",
    "glove = load_glove_embeddings(file_path)\n",
    "print(\"Done.\")\n",
    "\n",
    "# ✅ Step 5: Try it out!\n",
    "query = \"happy\"\n",
    "results = get_similar_words(query, glove)\n",
    "\n",
    "print(f\"Top words similar to '{query}':\")\n",
    "for word, score in results:\n",
    "    print(f\"{word} ({score:.4f})\")\n"
   ]
  },
  {
   "cell_type": "code",
   "execution_count": 7,
   "id": "7a7a13b4-5e22-42d9-868a-1641374ebafb",
   "metadata": {},
   "outputs": [
    {
     "name": "stdout",
     "output_type": "stream",
     "text": [
      "Top words similar to 'sad':\n",
      "sorry (0.7547)\n",
      "awful (0.7284)\n",
      "tragic (0.7239)\n",
      "horrible (0.7049)\n",
      "happy (0.6801)\n"
     ]
    }
   ],
   "source": [
    "query = \"sad\"\n",
    "results = get_similar_words(query, glove)\n",
    "\n",
    "print(f\"Top words similar to '{query}':\")\n",
    "for word, score in results:\n",
    "    print(f\"{word} ({score:.4f})\")"
   ]
  },
  {
   "cell_type": "code",
   "execution_count": 8,
   "id": "77172563-abdb-4032-a60b-b5a6c039d83c",
   "metadata": {},
   "outputs": [
    {
     "name": "stdout",
     "output_type": "stream",
     "text": [
      "Top words similar to 'phone':\n",
      "telephone (0.9113)\n",
      "cellphone (0.8122)\n",
      "phones (0.8031)\n",
      "mobile (0.7307)\n",
      "mail (0.7292)\n"
     ]
    }
   ],
   "source": [
    "query = \"phone\"\n",
    "results = get_similar_words(query, glove)\n",
    "\n",
    "print(f\"Top words similar to '{query}':\")\n",
    "for word, score in results:\n",
    "    print(f\"{word} ({score:.4f})\")"
   ]
  },
  {
   "cell_type": "code",
   "execution_count": null,
   "id": "43babb6d-07bf-4f45-90fd-2f7b674681ce",
   "metadata": {},
   "outputs": [],
   "source": []
  }
 ],
 "metadata": {
  "kernelspec": {
   "display_name": "Python [conda env:base] *",
   "language": "python",
   "name": "conda-base-py"
  },
  "language_info": {
   "codemirror_mode": {
    "name": "ipython",
    "version": 3
   },
   "file_extension": ".py",
   "mimetype": "text/x-python",
   "name": "python",
   "nbconvert_exporter": "python",
   "pygments_lexer": "ipython3",
   "version": "3.13.5"
  }
 },
 "nbformat": 4,
 "nbformat_minor": 5
}
